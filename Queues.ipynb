{
 "cells": [
  {
   "cell_type": "code",
   "execution_count": null,
   "metadata": {},
   "outputs": [],
   "source": [
    "class Node:\n",
    "    def __init__(self,data):\n",
    "        self.data = data\n",
    "        self.next = None\n",
    "\n",
    "\n",
    "class Queue:\n",
    "    def __init__(self):\n",
    "        self.head = None\n",
    "        self.tail = None\n",
    "\n",
    "    def enqueue(self,data): # add element to the queue\n",
    "        new_node = Node(data) # create a new node\n",
    "        if self.head == Node: # check if the queue is empty\n",
    "            self.head = new_node # \n",
    "            self.tail = new_node\n",
    "        else:\n",
    "            self.tail.next = new_node\n",
    "            self.tail = new_node\n",
    "\n",
    "    def dequeue(self):\n",
    "        if self.head :\n",
    "            current_node= self.head\n",
    "            self.head = current_node.next\n",
    "            current_node.next = None\n",
    "\n",
    "        if self.head ==None:\n",
    "            self.tail = None"
   ]
  }
 ],
 "metadata": {
  "language_info": {
   "name": "python"
  }
 },
 "nbformat": 4,
 "nbformat_minor": 2
}
