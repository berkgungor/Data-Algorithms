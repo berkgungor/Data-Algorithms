{
 "cells": [
  {
   "cell_type": "markdown",
   "metadata": {},
   "source": [
    "Preoder Traversal"
   ]
  },
  {
   "cell_type": "code",
   "execution_count": 3,
   "metadata": {},
   "outputs": [
    {
     "name": "stdout",
     "output_type": "stream",
     "text": [
      "40 30 15 10 20 5 "
     ]
    }
   ],
   "source": [
    "class Node:\n",
    "    def __init__(self,data):\n",
    "        self.data = data\n",
    "        self.left = None\n",
    "        self.right = None\n",
    "\n",
    "def preorderTraversal(root):\n",
    "\n",
    "    if root is None: # first node\n",
    "        return\n",
    "    \n",
    "    print(root.data, end=\" \") # visit current node\n",
    "\n",
    "    preorderTraversal(root.left) # recursive left side\n",
    "    preorderTraversal(root.right) # recursive right side\n",
    "\n",
    "if __name__ == \"__main__\":\n",
    "    root = Node(40)\n",
    "    root.left = Node(30)\n",
    "    root.right = Node(20)\n",
    "    root.left.left = Node(15)\n",
    "    root.left.right = Node(10)\n",
    "    root.right.left = Node(5)\n",
    "\n",
    "    preorderTraversal(root)\n",
    "\n",
    "    #       40\n",
    "    #      /  \\\n",
    "    #     30    20\n",
    "    #    / \\    /\n",
    "    #   15 10  5"
   ]
  },
  {
   "cell_type": "code",
   "execution_count": null,
   "metadata": {},
   "outputs": [],
   "source": []
  }
 ],
 "metadata": {
  "kernelspec": {
   "display_name": "Python 3",
   "language": "python",
   "name": "python3"
  },
  "language_info": {
   "codemirror_mode": {
    "name": "ipython",
    "version": 3
   },
   "file_extension": ".py",
   "mimetype": "text/x-python",
   "name": "python",
   "nbconvert_exporter": "python",
   "pygments_lexer": "ipython3",
   "version": "3.11.9"
  }
 },
 "nbformat": 4,
 "nbformat_minor": 2
}
