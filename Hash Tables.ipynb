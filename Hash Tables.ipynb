{
 "cells": [
  {
   "cell_type": "code",
   "execution_count": 1,
   "metadata": {},
   "outputs": [
    {
     "name": "stdout",
     "output_type": "stream",
     "text": [
      "Bombay -> Delhi, Delhi -> Goa, Goa -> Chennai, Chennai -> Banglore, "
     ]
    }
   ],
   "source": [
    "class Solution(): \n",
    "    #Solution class carries method for printing itinerary \n",
    "    def __init__(self): \n",
    "        pass\n",
    "    #method for printing itinerary \n",
    "    def printItinerary(self,d): \n",
    "        # First step : create a reversed mapping. Here also for storing key value pairs dictionary is used. \n",
    "        reverse_d = dict() \n",
    "        for i in d: \n",
    "            reverse_d[d[i]] = i \n",
    "        # Second step : find the starting point. Starting point will be that value which is not present in 'd' as key. \n",
    "        for i in reverse_d: \n",
    "            if reverse_d[i] not in reverse_d: \n",
    "                starting_pt = reverse_d[i] \n",
    "                break; \n",
    "        #Third step : simply proceed one by one to print whole route. Assuming that there exist Starting point. \n",
    "        while(starting_pt in d): \n",
    "            print(starting_pt,\"->\",d[starting_pt],end=\", \") \n",
    "            starting_pt = d[starting_pt] \n",
    "        #method prints here only. Does not return anything. \n",
    "  \n",
    "  \n",
    "if __name__==\"__main__\": \n",
    "    # Mapping using inbuilt data structure 'dictionary' \n",
    "    d = dict() \n",
    "    d[\"Chennai\"] = \"Banglore\"\n",
    "    d[\"Bombay\"] = \"Delhi\"\n",
    "    d[\"Goa\"] = \"Chennai\"\n",
    "    d[\"Delhi\"] = \"Goa\"\n",
    "  \n",
    "    # call for method that would print itinerary. \n",
    "    obj = Solution() \n",
    "    obj.printItinerary(d)"
   ]
  }
 ],
 "metadata": {
  "kernelspec": {
   "display_name": "Python 3",
   "language": "python",
   "name": "python3"
  },
  "language_info": {
   "codemirror_mode": {
    "name": "ipython",
    "version": 3
   },
   "file_extension": ".py",
   "mimetype": "text/x-python",
   "name": "python",
   "nbconvert_exporter": "python",
   "pygments_lexer": "ipython3",
   "version": "3.11.9"
  }
 },
 "nbformat": 4,
 "nbformat_minor": 2
}
