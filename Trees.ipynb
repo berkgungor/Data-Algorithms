{
 "cells": [
  {
   "cell_type": "code",
   "execution_count": 1,
   "metadata": {},
   "outputs": [],
   "source": [
    "class TreeNode:\n",
    "    def __init__(self,data,left=None,right=None):\n",
    "        self.data = data\n",
    "        self.left_child = left\n",
    "        self.right_child = right\n",
    "\n",
    "\n",
    "node1 = TreeNode(\"B\")\n",
    "node2 = TreeNode(\"C\")\n",
    "root_node = TreeNode(\"A\", node1, node2)"
   ]
  },
  {
   "cell_type": "code",
   "execution_count": 2,
   "metadata": {},
   "outputs": [
    {
     "name": "stdout",
     "output_type": "stream",
     "text": [
      "3\n",
      "6\n",
      "12\n",
      "14\n"
     ]
    }
   ],
   "source": [
    "#inserting to a tree\n",
    "class Node:\n",
    "   def __init__(self, data):\n",
    "      self.left = None\n",
    "      self.right = None\n",
    "      self.data = data\n",
    "\n",
    "   def insert(self, data):\n",
    "# Compare the new value with the parent node\n",
    "      if self.data:\n",
    "         if data < self.data:\n",
    "            if self.left is None:\n",
    "               self.left = Node(data)\n",
    "            else:\n",
    "               self.left.insert(data)\n",
    "         elif data > self.data:\n",
    "               if self.right is None:\n",
    "                  self.right = Node(data)\n",
    "               else:\n",
    "                  self.right.insert(data)\n",
    "      else:\n",
    "         self.data = data\n",
    "\n",
    "# Print the tree\n",
    "   def PrintTree(self):\n",
    "      if self.left:\n",
    "         self.left.PrintTree()\n",
    "      print( self.data),\n",
    "      if self.right:\n",
    "         self.right.PrintTree()\n",
    "\n",
    "# Use the insert method to add nodes\n",
    "root = Node(12)\n",
    "root.insert(6)\n",
    "root.insert(14)\n",
    "root.insert(3)\n",
    "root.PrintTree()"
   ]
  },
  {
   "cell_type": "code",
   "execution_count": 1,
   "metadata": {},
   "outputs": [
    {
     "name": "stdout",
     "output_type": "stream",
     "text": [
      "zsh:1: command not found: pip\n"
     ]
    }
   ],
   "source": [
    "!pip install graphviz"
   ]
  }
 ],
 "metadata": {
  "kernelspec": {
   "display_name": "Python 3",
   "language": "python",
   "name": "python3"
  },
  "language_info": {
   "codemirror_mode": {
    "name": "ipython",
    "version": 3
   },
   "file_extension": ".py",
   "mimetype": "text/x-python",
   "name": "python",
   "nbconvert_exporter": "python",
   "pygments_lexer": "ipython3",
   "version": "3.11.9"
  }
 },
 "nbformat": 4,
 "nbformat_minor": 2
}
