{
 "cells": [
  {
   "cell_type": "code",
   "execution_count": 5,
   "metadata": {},
   "outputs": [
    {
     "name": "stdout",
     "output_type": "stream",
     "text": [
      "   bedrooms  bathrooms  sqft  age   price\n",
      "0         2          1   850   10  150000\n",
      "1         3          2  1200   15  200000\n",
      "2         4          3  1500   20  250000\n",
      "3         2          1   700    5  130000\n",
      "4         5          4  2000   25  320000\n",
      "5         3          2  1300   12  210000\n",
      "6         4          2  1600   18  260000\n",
      "7         3          1  1100    8  180000\n",
      "8         2          1   800    6  140000\n",
      "9         4          3  1800   30  300000\n"
     ]
    }
   ],
   "source": [
    "import pandas as pd\n",
    "import numpy as np\n",
    "\n",
    "# Creating a DataFrame with sample data for house features\n",
    "data = {\n",
    "    'bedrooms': [2, 3, 4, 2, 5, 3, 4, 3, 2, 4],      # Number of bedrooms\n",
    "    'bathrooms': [1, 2, 3, 1, 4, 2, 2, 1, 1, 3],    # Number of bathrooms\n",
    "    'sqft': [850, 1200, 1500, 700, 2000, 1300, 1600, 1100, 800, 1800],  # Square footage\n",
    "    'age': [10, 15, 20, 5, 25, 12, 18, 8, 6, 30],   # Age of the house in years\n",
    "    'price': [150000, 200000, 250000, 130000, 320000, 210000, 260000, 180000, 140000, 300000]  # Price of the house\n",
    "}\n",
    "\n",
    "# Create the DataFrame\n",
    "df = pd.DataFrame(data)\n",
    "print(df)"
   ]
  },
  {
   "cell_type": "markdown",
   "metadata": {},
   "source": [
    "Task is to implement a linear regression model from scratch to predict the price of a house.\n",
    "\n",
    "- Normalizes the data using feature scaling.\n",
    "\n",
    "- Implements linear regression using gradient descent.\n",
    "\n",
    "- Predicts the price for a new house given its features.\n",
    "\n",
    "- Evaluates the model using Mean Squared Error (MSE)."
   ]
  },
  {
   "cell_type": "code",
   "execution_count": 6,
   "metadata": {},
   "outputs": [],
   "source": [
    "from sklearn.model_selection import train_test_split\n",
    "from sklearn.linear_model import LinearRegression\n",
    "from sklearn.preprocessing import MinMaxScaler\n",
    "from sklearn.metrics import mean_squared_error\n",
    "\n",
    "# Step 2: Normalize the features using Min-Max Scaling with scikit-learn\n",
    "scaler = MinMaxScaler()  # Create a MinMaxScaler object\n",
    "\n",
    "# Separate features (X) and target (y)\n",
    "X = df[['bedrooms', 'bathrooms', 'sqft', 'age']]\n",
    "y = df['price']\n",
    "\n",
    "# Fit and transform the features using Min-Max Scaler\n",
    "X_scaled = scaler.fit_transform(X)\n",
    "\n",
    "# Step 3: Split the data into training and testing sets\n",
    "X_train, X_test, y_train, y_test = train_test_split(X_scaled, y, test_size=0.2, random_state=42)\n"
   ]
  },
  {
   "cell_type": "code",
   "execution_count": 7,
   "metadata": {},
   "outputs": [
    {
     "name": "stdout",
     "output_type": "stream",
     "text": [
      "Predicted Prices: [139860.08496491 204116.41115626]\n",
      "Actual Prices: [140000 200000]\n"
     ]
    }
   ],
   "source": [
    "model = LinearRegression()  # Create a LinearRegression model\n",
    "model.fit(X_train, y_train)  # Train the model\n",
    "\n",
    "# Step 5: Predict the price using the trained model\n",
    "y_pred = model.predict(X_test)\n",
    "\n",
    "# Display the predicted and actual values\n",
    "print(f\"Predicted Prices: {y_pred}\")\n",
    "print(f\"Actual Prices: {y_test.values}\")"
   ]
  },
  {
   "cell_type": "code",
   "execution_count": 8,
   "metadata": {},
   "outputs": [
    {
     "name": "stdout",
     "output_type": "stream",
     "text": [
      "Predicted Price for house [3 bedrooms, 2 bathrooms, 1500 sqft, 10 years old]: 228781.70791774412\n",
      "Mean Squared Error: 8482208.512220072\n"
     ]
    },
    {
     "name": "stderr",
     "output_type": "stream",
     "text": [
      "/Users/berkgungor/.pyenv/versions/3.9.6/lib/python3.9/site-packages/sklearn/base.py:493: UserWarning: X does not have valid feature names, but MinMaxScaler was fitted with feature names\n",
      "  warnings.warn(\n"
     ]
    }
   ],
   "source": [
    "example_features = [[3, 2, 1500, 10]]\n",
    "example_features_scaled = scaler.transform(example_features)  # Normalize input features\n",
    "predicted_price = model.predict(example_features_scaled)\n",
    "print(f\"Predicted Price for house [3 bedrooms, 2 bathrooms, 1500 sqft, 10 years old]: {predicted_price[0]}\")\n",
    "\n",
    "# Step 6: Evaluate the model using Mean Squared Error (MSE)\n",
    "mse = mean_squared_error(y_test, y_pred)\n",
    "print(f\"Mean Squared Error: {mse}\")"
   ]
  }
 ],
 "metadata": {
  "kernelspec": {
   "display_name": "Python 3",
   "language": "python",
   "name": "python3"
  },
  "language_info": {
   "codemirror_mode": {
    "name": "ipython",
    "version": 3
   },
   "file_extension": ".py",
   "mimetype": "text/x-python",
   "name": "python",
   "nbconvert_exporter": "python",
   "pygments_lexer": "ipython3",
   "version": "3.9.6"
  }
 },
 "nbformat": 4,
 "nbformat_minor": 2
}
