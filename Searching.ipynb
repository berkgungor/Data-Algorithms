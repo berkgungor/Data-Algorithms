{
 "cells": [
  {
   "cell_type": "markdown",
   "metadata": {},
   "source": [
    "Linear Search"
   ]
  },
  {
   "cell_type": "code",
   "execution_count": 2,
   "metadata": {},
   "outputs": [
    {
     "name": "stdout",
     "output_type": "stream",
     "text": [
      "True\n"
     ]
    }
   ],
   "source": [
    "def linear_search(unordered_list,search_value):\n",
    "    for index in range(len(unordered_list)):\n",
    "        if unordered_list[index] == search_value:\n",
    "            return True\n",
    "    return False\n",
    "    \n",
    "print(linear_search([15,2,33,2,12,7,8,9],8))"
   ]
  },
  {
   "cell_type": "markdown",
   "metadata": {},
   "source": [
    "Binary Search"
   ]
  },
  {
   "cell_type": "code",
   "execution_count": 4,
   "metadata": {},
   "outputs": [],
   "source": [
    "def binary_search(ordered_list,search_value):\n",
    "    first=0\n",
    "    last=len(ordered_list)-1\n",
    "\n",
    "    while first <= last:\n",
    "        middle = (first + last)//2 # find middle to start searching for correct half\n",
    "        if search_value == ordered_list[middle]: # middle number \n",
    "            return True\n",
    "        elif search_value < ordered_list[middle]: # left half is searced\n",
    "            last = middle - 1\n",
    "        else:  # right half is searched\n",
    "            first = middle + 1"
   ]
  }
 ],
 "metadata": {
  "kernelspec": {
   "display_name": "Python 3",
   "language": "python",
   "name": "python3"
  },
  "language_info": {
   "codemirror_mode": {
    "name": "ipython",
    "version": 3
   },
   "file_extension": ".py",
   "mimetype": "text/x-python",
   "name": "python",
   "nbconvert_exporter": "python",
   "pygments_lexer": "ipython3",
   "version": "3.11.9"
  }
 },
 "nbformat": 4,
 "nbformat_minor": 2
}
