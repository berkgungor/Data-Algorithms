{
 "cells": [
  {
   "cell_type": "code",
   "execution_count": null,
   "metadata": {},
   "outputs": [],
   "source": [
    "class Node:\n",
    "    def __init__(self,data):\n",
    "        self.data = data\n",
    "        self.next = None\n",
    "        "
   ]
  },
  {
   "cell_type": "code",
   "execution_count": null,
   "metadata": {},
   "outputs": [],
   "source": [
    "class LinkedList:\n",
    "    def __init__(self):\n",
    "        self.head = None\n",
    "        self.tail = None\n",
    "\n",
    "    # inititally no node at the head or tail\n",
    "    def insert_at_beginning(self,data):\n",
    "        new_node =Node(data) # create a new node\n",
    "        if self.head is None: # if the head is empty, new node is the head\n",
    "            self.head = new_node # new node becomes the head\n",
    "            return\n",
    "        else:\n",
    "            new_node.next = self.head # insert the head at the next new_node and make the head equal to new_node.\n",
    "            self.head = new_node\n",
    "\n",
    "\n",
    "    def insert_at_end(self,data):\n",
    "        new_node = Node(data)\n",
    "        # if the list is not empty, next node of the tail will be the new node\n",
    "        if self.head: \n",
    "            self.tail.next = new_node\n",
    "            self.tail = new_node # new node will become the tail.\n",
    "        else:\n",
    "            self.head = new_node\n",
    "            self.tail = new_node\n",
    "\n",
    "    def search(self, data):\n",
    "        current_node = self.head\n",
    "        while current_node: # if there is a node to visit, we check if their data is equal to data we search for.\n",
    "            if current_node.data == data:\n",
    "                return True\n",
    "            \n",
    "            else:\n",
    "                current_node = current_node.next\n",
    "        return False # if we can not find the data\n",
    "    \n",
    "\n",
    "    def remove_first_node(self):\n",
    "        if(self.head == None): \n",
    "            return\n",
    "        \n",
    "        self.head = self.head.next # remove the first node and make second node head of list."
   ]
  }
 ],
 "metadata": {
  "language_info": {
   "name": "python"
  }
 },
 "nbformat": 4,
 "nbformat_minor": 2
}
